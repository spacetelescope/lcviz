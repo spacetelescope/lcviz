{
 "cells": [
  {
   "cell_type": "markdown",
   "id": "8f932e3b-4c43-4295-bd9f-f0cbce75fbf0",
   "metadata": {},
   "source": [
    "# Phase-Folding on Multiple Ephemerides\n",
    "\n",
    "This notebook loads a triple eclipsing system (KIC 2835289) containing an inner-ellipsoidal variable, flattens the light curve, and phase-folds on both orbital periods."
   ]
  },
  {
   "cell_type": "code",
   "execution_count": null,
   "id": "20a21fc7-3461-4d46-b688-0e5d3e490bde",
   "metadata": {},
   "outputs": [],
   "source": [
    "from lightkurve import search_lightcurve\n",
    "from lcviz import LCviz\n",
    "\n",
    "lc = search_lightcurve(\"KIC 2835289\", author=\"Kepler\", cadence=\"long\", quarter=[9,11,13,15,17]).download_all().stitch()\n",
    "\n",
    "lcviz = LCviz()\n",
    "lcviz.load_data(lc)\n",
    "lcviz.show()"
   ]
  },
  {
   "cell_type": "markdown",
   "id": "f90285a3-ef1d-4491-94f8-05c2f523c7d6",
   "metadata": {},
   "source": [
    "## Flattening / Detrending\n",
    "\n",
    "Here we'll use the API to open the plugin UI, set the inputs, and flatten the light curve.  To reproduce this workflow interactively, open the \"Flatten\" plugin in the plugin tray (click the three horizontal bars in the top-right of lcviz), and set the corresponding inputs in the plugin UI. Modifying the parameters in the UI will produce live-previews of the detrended light curve."
   ]
  },
  {
   "cell_type": "code",
   "execution_count": null,
   "id": "1639f254-c195-404f-bb44-8d20832ea7b7",
   "metadata": {},
   "outputs": [],
   "source": [
    "flatten = lcviz.plugins['Flatten']\n",
    "flatten.open_in_tray()"
   ]
  },
  {
   "cell_type": "code",
   "execution_count": null,
   "id": "b9a388e8-feaf-44f6-acd8-09137ab44ef0",
   "metadata": {},
   "outputs": [],
   "source": [
    "dir(flatten)"
   ]
  },
  {
   "cell_type": "code",
   "execution_count": null,
   "id": "750fd31b-5882-4045-aded-1e390cd07e27",
   "metadata": {},
   "outputs": [],
   "source": [
    "# hide the preview of the flattened LC so we can inspect the trend and finetune flattening inputs\n",
    "flatten.show_live_preview = False"
   ]
  },
  {
   "cell_type": "code",
   "execution_count": null,
   "id": "5b3432c9-5cee-4e18-9354-e814148ff6f4",
   "metadata": {},
   "outputs": [],
   "source": [
    "flatten.window_length = 1000\n",
    "flatten.polyorder = 2\n",
    "flatten.sigma = 3\n",
    "flatten.niters = 3"
   ]
  },
  {
   "cell_type": "code",
   "execution_count": null,
   "id": "c82d084b-15a1-4316-847e-eddf2cb1310c",
   "metadata": {},
   "outputs": [],
   "source": [
    "flattened_lc = flatten.flatten()"
   ]
  },
  {
   "cell_type": "code",
   "execution_count": null,
   "id": "3b0d50b1-95c8-4503-bd00-8e29585f3eaa",
   "metadata": {},
   "outputs": [],
   "source": [
    "flatten.close_in_tray()"
   ]
  },
  {
   "cell_type": "markdown",
   "id": "fcbdd24a-52e6-467d-a3ce-570af1fb0bf6",
   "metadata": {},
   "source": [
    "## Phase-Folding\n",
    "\n",
    "We can use the \"Ephemeris\" plugin to visualize two periodic features in this light curve: one period for the inner binary, and another period for the outer star's orbit.  As each ephemeris is added, a new phase viewer will be created to show the light curve folded on that period.  As with the Flatten plugin above, the UI allows for live-updating interactive workflows through the \"Ephemeris\" plugin."
   ]
  },
  {
   "cell_type": "code",
   "execution_count": null,
   "id": "a1e2aebf-0a8c-41c6-961f-453de97b09c4",
   "metadata": {},
   "outputs": [],
   "source": [
    "ephem = lcviz.plugins['Ephemeris']\n",
    "ephem.open_in_tray()"
   ]
  },
  {
   "cell_type": "code",
   "execution_count": null,
   "id": "0241ba45-10a7-454a-898e-7dbb8b902d48",
   "metadata": {},
   "outputs": [],
   "source": [
    "dir(ephem)"
   ]
  },
  {
   "cell_type": "code",
   "execution_count": null,
   "id": "ba1a420b-1e86-4c50-8f56-2a654bf5c09b",
   "metadata": {},
   "outputs": [],
   "source": [
    "ephem.rename_component('default', 'inner ELV')"
   ]
  },
  {
   "cell_type": "code",
   "execution_count": null,
   "id": "df5af99c-801a-49d4-ab7f-e1d254700935",
   "metadata": {},
   "outputs": [],
   "source": [
    "ephem.method = 'Lomb-Scargle'"
   ]
  },
  {
   "cell_type": "code",
   "execution_count": null,
   "id": "a27f827d-b47f-40d8-8d29-a9c8c83f3b31",
   "metadata": {},
   "outputs": [],
   "source": [
    "ephem.adopt_period_at_max_power()"
   ]
  },
  {
   "cell_type": "code",
   "execution_count": null,
   "id": "d8166f50-d704-43d4-8636-5553fcc8e1e0",
   "metadata": {},
   "outputs": [],
   "source": [
    "ephem.period *= 2"
   ]
  },
  {
   "cell_type": "code",
   "execution_count": null,
   "id": "d86c4b7d-3672-4a70-81aa-8b1aa28a9b1c",
   "metadata": {},
   "outputs": [],
   "source": [
    "lcviz.viewers['flux-vs-phase:inner ELV'].set_limits(y_min=0.97, y_max=1.02)"
   ]
  },
  {
   "cell_type": "code",
   "execution_count": null,
   "id": "4d43a843-ade9-4ea5-805c-64c5c3545c2b",
   "metadata": {},
   "outputs": [],
   "source": [
    "ephem.add_component('outer binary')"
   ]
  },
  {
   "cell_type": "code",
   "execution_count": null,
   "id": "c65df117-8fbe-4c30-b14a-403c5d8a1ec1",
   "metadata": {},
   "outputs": [],
   "source": [
    "ephem.period = 750.1\n",
    "ephem.t0 = 15.8"
   ]
  },
  {
   "cell_type": "code",
   "execution_count": null,
   "id": "194d6c14-c1c2-4816-9efb-9ab6fba10172",
   "metadata": {},
   "outputs": [],
   "source": [
    "ephem.wrap_at = 0.5"
   ]
  },
  {
   "cell_type": "code",
   "execution_count": null,
   "id": "12d7aeec-db90-426d-b445-710ae064131e",
   "metadata": {},
   "outputs": [],
   "source": [
    "lcviz.viewers['flux-vs-phase:outer binary'].set_limits(x_min=-0.002, x_max=0.002)"
   ]
  },
  {
   "cell_type": "code",
   "execution_count": null,
   "id": "f5f387bc-f6c3-40f6-8576-2bfb47f7306d",
   "metadata": {},
   "outputs": [],
   "source": [
    "ephem.close_in_tray()"
   ]
  },
  {
   "cell_type": "markdown",
   "id": "53c1388d-84c0-4d9a-b770-f4356eb1d22e",
   "metadata": {},
   "source": [
    "Now that we have our phase-viewers, we can click and drag on the viewer tabs to re-arrange them (stacked vertically or as nested tabs, etc).  We can also use the subset tool to highlight data in any of the three viewers and see those same data points highlight in the other viewers.  \n",
    "\n",
    "This can be particularly useful for systems like this with multiple periodic signals.  For example: we can select the data points in the \"outer binary\" phase viewer corresponding to the eclipse event, view where those fall in the \"inner binary\" phase viewer, and then inspect any other remaining outliers that don't follow the ellipsoidal variable trend."
   ]
  }
 ],
 "metadata": {
  "kernelspec": {
   "display_name": "Python 3 (ipykernel)",
   "language": "python",
   "name": "python3"
  },
  "language_info": {
   "codemirror_mode": {
    "name": "ipython",
    "version": 3
   },
   "file_extension": ".py",
   "mimetype": "text/x-python",
   "name": "python",
   "nbconvert_exporter": "python",
   "pygments_lexer": "ipython3",
   "version": "3.11.3"
  }
 },
 "nbformat": 4,
 "nbformat_minor": 5
}
