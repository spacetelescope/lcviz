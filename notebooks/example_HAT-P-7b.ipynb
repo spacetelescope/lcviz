{
 "cells": [
  {
   "cell_type": "markdown",
   "id": "ebbca018-05e9-42a4-ab1c-7e8f3fd7dbab",
   "metadata": {},
   "source": [
    "# Short cadence observations of HAT-P-7 b\n",
    "\n",
    "HAT-P-7 b ([Pál et al. 2008](https://ui.adsabs.harvard.edu/abs/2008ApJ...680.1450P/abstract)) is a hot Jupiter orbiting a bright F6V host in the Kepler field. Let's take a look at short cadence (one-minute) Kepler observations from the first three Kepler quarters to see the secondary eclipse of the planet, when the planet's flux disappears as the planet is eclipsed by the host star.\n",
    "\n",
    "First we download the observations with `lightkurve`:"
   ]
  },
  {
   "cell_type": "code",
   "execution_count": null,
   "id": "3c6f5e23-f9d9-4577-b012-4f138f722e9a",
   "metadata": {
    "tags": []
   },
   "outputs": [],
   "source": [
    "import astropy.units as u\n",
    "from lightkurve import search_lightcurve\n",
    "from astropy.time import Time\n",
    "from lcviz import LCviz\n",
    "\n",
    "# Download three quarters of short cadence observations from Kepler:\n",
    "lc = search_lightcurve(\n",
    "    target=\"HAT-P-7\", \n",
    "    mission=\"Kepler\", \n",
    "    quarter=[1, 2, 3], \n",
    "    cadence=\"short\", \n",
    "    author=\"Kepler\"\n",
    ").download_all().stitch(\n",
    "    # stitch together the quarters after normalizing each one:\n",
    "    lambda x: x.normalize()\n",
    ")"
   ]
  },
  {
   "cell_type": "markdown",
   "id": "0c415a3c-4f47-479e-9515-708a4155d3a2",
   "metadata": {},
   "source": [
    "Now load the light curve's 300,000 flux measurements:"
   ]
  },
  {
   "cell_type": "code",
   "execution_count": null,
   "id": "17261527-c741-4cc7-a08c-4df10a9daef6",
   "metadata": {
    "tags": []
   },
   "outputs": [],
   "source": [
    "# Load the light curve into LCviz:\n",
    "lcviz = LCviz()\n",
    "lcviz.load_data(lc, data_label=f\"HAT-P-7\")\n",
    "lcviz.show()"
   ]
  },
  {
   "cell_type": "code",
   "execution_count": null,
   "id": "3883867b-63b9-42f7-aafd-bf1b9a3b4c05",
   "metadata": {
    "tags": []
   },
   "outputs": [],
   "source": [
    "# use the flatten plugin to flatten each quarter:\n",
    "flatten = lcviz.plugins['Flatten']\n",
    "\n",
    "for dataset in flatten.dataset.choices:\n",
    "    flatten.dataset = dataset\n",
    "    flatten.window_length = 2000\n",
    "    flatten.flatten();"
   ]
  },
  {
   "cell_type": "markdown",
   "id": "0f0ae31f-80f2-462b-805f-fb862d05a32e",
   "metadata": {},
   "source": [
    "Now let's phase-fold the observations with the ephemeris of the planet using the `Ephemeris` plugin:"
   ]
  },
  {
   "cell_type": "code",
   "execution_count": null,
   "id": "2eec0609-f242-41d0-bc06-4a28177d541f",
   "metadata": {
    "tags": []
   },
   "outputs": [],
   "source": [
    "# planet parameters from Morris et al. 2013:\n",
    "# https://ui.adsabs.harvard.edu/abs/2013ApJ...764L..22M/abstract\n",
    "\n",
    "# get the origin of the time axis in LCviz:\n",
    "time_coordinates = lcviz.app.data_collection[0].coords\n",
    "reference_time = time_coordinates.reference_time\n",
    "\n",
    "period = 2.204737  # days\n",
    "epoch = Time(2454954.357463, format='jd')\n",
    "\n",
    "# phase-fold the transit light curve in an ephemeris viewer:\n",
    "eph = lcviz.plugins['Ephemeris']\n",
    "eph.period = period\n",
    "eph.t0 = (\n",
    "    (epoch - reference_time).to_value(time_coordinates.unit) % eph.period\n",
    ")"
   ]
  },
  {
   "cell_type": "markdown",
   "id": "3fba0689-6028-44ee-887c-5fdf3bc6b635",
   "metadata": {},
   "source": [
    "We can easily see the secondary eclipse if we bin the phased observations with the `Binning` plugin:"
   ]
  },
  {
   "cell_type": "code",
   "execution_count": null,
   "id": "d88563e5-a887-4ad4-a232-73349d39c28d",
   "metadata": {},
   "outputs": [],
   "source": [
    "binning = lcviz.plugins['Binning']\n",
    "binning.n_bins = 150\n",
    "binning.keep_active = False\n",
    "binning.ephemeris = 'default'\n",
    "binning.bin();"
   ]
  },
  {
   "cell_type": "markdown",
   "id": "8340e548-116b-4866-bfa6-3322d7945a54",
   "metadata": {},
   "source": [
    "and adjust the axis limits and colors:"
   ]
  },
  {
   "cell_type": "code",
   "execution_count": null,
   "id": "0d97cbfa-162b-4204-80ec-fbe0c6dc8fab",
   "metadata": {
    "tags": []
   },
   "outputs": [],
   "source": [
    "viewer = lcviz.app.get_viewer('flux-vs-phase:default')\n",
    "viewer.state.y_min = 0.99993\n",
    "viewer.state.y_max = 1.00005\n",
    "\n",
    "plot_options = lcviz.plugins['Plot Options']\n",
    "plot_options.viewer = 'flux-vs-phase:default'\n",
    "plot_options.layer = 'HAT-P-7[pdcsap_flux]'\n",
    "plot_options.marker_opacity = 0.1\n",
    "plot_options.marker_size = 1\n",
    "\n",
    "plot_options.layer = 'binned HAT-P-7[pdcsap_flux]:default'\n",
    "plot_options.marker_size = 50\n",
    "plot_options.marker_color = 'r'"
   ]
  },
  {
   "cell_type": "code",
   "execution_count": null,
   "id": "5e851e0a-c4e0-48a3-9701-b6c1928e7fc5",
   "metadata": {},
   "outputs": [],
   "source": []
  }
 ],
 "metadata": {
  "kernelspec": {
   "display_name": "Python 3 (ipykernel)",
   "language": "python",
   "name": "python3"
  },
  "language_info": {
   "codemirror_mode": {
    "name": "ipython",
    "version": 3
   },
   "file_extension": ".py",
   "mimetype": "text/x-python",
   "name": "python",
   "nbconvert_exporter": "python",
   "pygments_lexer": "ipython3",
   "version": "3.11.4"
  }
 },
 "nbformat": 4,
 "nbformat_minor": 5
}
