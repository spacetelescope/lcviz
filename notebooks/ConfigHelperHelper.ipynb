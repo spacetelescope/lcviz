{
 "cells": [
  {
   "cell_type": "markdown",
   "id": "7e80db7e",
   "metadata": {},
   "source": [
    "# Customviz - A concept notebook for creating custom configurations\n",
    "This notebook provides a whiteboard workspace for developing/hacking the infrastructure required for aiding the development of custom configurations. This builds off of a preliminary investigation by Brett earlier on."
   ]
  },
  {
   "cell_type": "markdown",
   "id": "fc6555b6",
   "metadata": {},
   "source": [
    "## A \"ConfigHelper Helper\"\n",
    "Currently, our configurations are defined in YAML files that are \"almost\" hardcoded into the code. But all this is doing in the backend is reading the file, constructing a dictionary from the contents, and passing it down the line. So, if we had a helper to help us make our own dictionary, we should be able to pass that in instead and avoid the need to introduce a YAML file at all!"
   ]
  },
  {
   "cell_type": "code",
   "execution_count": null,
   "id": "8af2fa09",
   "metadata": {},
   "outputs": [],
   "source": [
    "# For reference, this is how the layout is currently retrieved for our configs:\n",
    "from jdaviz.core.config import read_configuration\n",
    "read_configuration('specviz')"
   ]
  },
  {
   "cell_type": "code",
   "execution_count": null,
   "id": "1d565d49-4e48-4939-9211-383d74187584",
   "metadata": {},
   "outputs": [],
   "source": [
    "# A new prototype config constructor\n",
    "# Currently missing: How to specify the specific layout of the viewers themselves. Currently only adds them to the same row\n",
    "class jdaviz_config():\n",
    "    default_viewer_names = {\n",
    "        'spectrum1d': {'name': 'Spectrum', 'reference': 'spectrum-viewer'},\n",
    "        'spectrum2d': {'name': '2D Spectrum viewer', 'reference': 'spectrum-2d-viewer'},\n",
    "        'image' : {'name': 'Image-viewer', 'reference': 'image-viewer'},\n",
    "        'table': {'name': 'Table viewer', 'reference': 'table-viewer'}\n",
    "        #'time': {'name': 'Time-viewer', 'reference': 'time-viewer'}\n",
    "    }\n",
    "\n",
    "    default_plot_classes = {\n",
    "        'spectrum1d': 'specviz-profile-viewer',\n",
    "        'spectrum2d': 'mosviz-profile-2d-viewer',\n",
    "        'image': 'mosviz-image-viewer',\n",
    "        'table': 'mosviz-table-viewer'\n",
    "        #'time': 'lcviz-time-viewer'\n",
    "    }\n",
    "    \n",
    "    def __init__(self, config, plugins=None, tools=None, viewers=None):\n",
    "\n",
    "        self.settings = {'configuration': config,\n",
    "                         'visible': {'menu_bar': False,\n",
    "                                     'toolbar': True,\n",
    "                                     'tray': True,\n",
    "                                     'tab_headers': False\n",
    "                                    },\n",
    "                         'dense_toolbar': False,\n",
    "                         'context': {'notebook': {'max_height': '600px'}}\n",
    "                        }\n",
    "        \n",
    "        self.viewers = []\n",
    "        for viewer in viewers:\n",
    "            self.add_viewer(viewer)         \n",
    "        \n",
    "        self.toolbar = []\n",
    "        for tool in tools:\n",
    "            self.toolbar.append(tool)\n",
    "\n",
    "        self.plugins = []\n",
    "        for plugin in plugins:\n",
    "            self.plugins.append(plugin)\n",
    "        \n",
    "    \n",
    "    def get_config(self):\n",
    "        viewer_area = [\n",
    "                       {'container': 'col',\n",
    "                        'children' : [\n",
    "                                      {'container': 'row',\n",
    "                                       'viewers': self.viewers\n",
    "                                      }\n",
    "                                     ]\n",
    "                       }\n",
    "                      ]\n",
    "        return {'settings'   : self.settings,\n",
    "                'toolbar'    : self.toolbar,\n",
    "                'tray'       : self.plugins,\n",
    "                'viewer_area': viewer_area\n",
    "               }\n",
    "    \n",
    "    \n",
    "    def add_viewer(self, type, name=None, viewer_register=None, reference=None):\n",
    "        '''\n",
    "        type: str\n",
    "            Specifies the type of viewer. Must be one of [spectrum1d, spectrum2d, image, table]\n",
    "        '''\n",
    "        if not name:\n",
    "            name = self.default_viewer_names[type]['name']\n",
    "        if not viewer_register:\n",
    "            viewer_register = self.default_plot_classes[type]\n",
    "        if not reference:\n",
    "            reference = self.default_viewer_names[type]['reference']\n",
    "        \n",
    "        self.viewers.append({'name': name,\n",
    "                             'plot': viewer_register,\n",
    "                             'reference': reference\n",
    "                            })\n",
    "        \n",
    "    \n",
    "    def add_tool(self, tool):\n",
    "        self.toolbar.append(tool)\n",
    "    \n",
    "    \n",
    "    def add_plugin(self, plugin):\n",
    "        self.config['tray'].append(plugin)\n",
    "\n",
    "        \n",
    "    def register_parser(self, parser):\n",
    "        raise NotImplementedError\n",
    "    \n",
    "    \n",
    "    def register_viewer(self, viewer, viewer_name):\n",
    "        raise NotImplementedError\n",
    "        "
   ]
  },
  {
   "cell_type": "code",
   "execution_count": null,
   "id": "52329668",
   "metadata": {},
   "outputs": [],
   "source": [
    "# Here's how you would expect to call it manually\n",
    "viewers=['image', 'spectrum1d']\n",
    "tools=['g-subset-tools']\n",
    "plugins=['g-metadata-viewer', 'g-plot-options']\n",
    "\n",
    "x = jdaviz_config(config='customviz', viewers=viewers, tools=tools, plugins=plugins)\n",
    "x.get_config()"
   ]
  },
  {
   "cell_type": "code",
   "execution_count": null,
   "id": "92993491",
   "metadata": {},
   "outputs": [],
   "source": [
    "from jdaviz.core.helpers import ConfigHelper\n",
    "\n",
    "class Customviz(ConfigHelper):\n",
    "    \n",
    "    _viewers = ['spectrum1d', 'image', 'table']\n",
    "    \n",
    "    _plugins = ['g-metadata-viewer', 'g-plot-options', 'HelloWorldPlugin']\n",
    "    \n",
    "    _tools = ['g-data-tools', 'g-subset-tools']\n",
    "    \n",
    "    _default_configuration = jdaviz_config(config='customviz', viewers=_viewers, tools=_tools, plugins=_plugins).get_config()\n",
    "    \n",
    "    def __init__(self, *args, **kwargs):\n",
    "        super().__init__(*args, **kwargs)\n",
    "        self._default_spectrum_viewer_reference_name = jdaviz_config.default_viewer_names['spectrum1d']['reference']"
   ]
  },
  {
   "cell_type": "code",
   "execution_count": null,
   "id": "cc7a54ac",
   "metadata": {},
   "outputs": [],
   "source": [
    "customviz = Customviz()\n",
    "customviz.show()"
   ]
  },
  {
   "cell_type": "raw",
   "id": "d2efa0f4",
   "metadata": {},
   "source": [
    "# We could even have the helper assemble its own layout! If, we sneak like this into the base ConfigHelper class, we could even avoid the need for the `_default_configuration` itself\n",
    "\n",
    "if self._default_configuration == None and (hasattr(self, '_viewers')):\n",
    "    self._default_configuration = jdaviz_config(config='customviz',\n",
    "                                                viewers=self._viewers,\n",
    "                                                tools=self._tools,\n",
    "                                                plugins=self._plugins\n",
    "                                               ).get_config()"
   ]
  }
 ],
 "metadata": {
  "kernelspec": {
   "display_name": "Python 3 (ipykernel)",
   "language": "python",
   "name": "python3"
  },
  "language_info": {
   "codemirror_mode": {
    "name": "ipython",
    "version": 3
   },
   "file_extension": ".py",
   "mimetype": "text/x-python",
   "name": "python",
   "nbconvert_exporter": "python",
   "pygments_lexer": "ipython3",
   "version": "3.10.10"
  }
 },
 "nbformat": 4,
 "nbformat_minor": 5
}
