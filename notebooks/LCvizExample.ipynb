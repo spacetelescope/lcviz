{
 "cells": [
  {
   "cell_type": "code",
   "execution_count": null,
   "id": "a21f400f",
   "metadata": {},
   "outputs": [],
   "source": [
    "from lightkurve import search_lightcurve\n",
    "from lcviz import LCviz\n",
    "\n",
    "lc = search_lightcurve(\"HAT-P-11\", mission=\"Kepler\", cadence=\"long\", quarter=10).download()\n",
    "\n",
    "lcviz = LCviz()\n",
    "lcviz.load_data(lc)\n",
    "lcviz.show()"
   ]
  },
  {
   "cell_type": "code",
   "execution_count": null,
   "id": "8dde219d-c9f1-4967-9437-e0abdcbd32b5",
   "metadata": {},
   "outputs": [],
   "source": []
  }
 ],
 "metadata": {
  "kernelspec": {
   "display_name": "Python 3 (ipykernel)",
   "language": "python",
   "name": "python3"
  },
  "language_info": {
   "codemirror_mode": {
    "name": "ipython",
    "version": 3
   },
   "file_extension": ".py",
   "mimetype": "text/x-python",
   "name": "python",
   "nbconvert_exporter": "python",
   "pygments_lexer": "ipython3",
   "version": "3.11.3"
  },
  "vscode": {
   "interpreter": {
    "hash": "e0d7698a6bffdd12823f3adae50ca3e0cdb25fd6a46309d7ef31b30c90f2e841"
   }
  }
 },
 "nbformat": 4,
 "nbformat_minor": 5
}
